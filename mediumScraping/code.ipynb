{
 "cells": [
  {
   "cell_type": "code",
   "execution_count": 1,
   "metadata": {},
   "outputs": [],
   "source": [
    "from bs4 import BeautifulSoup\n",
    "import requests\n",
    "import os"
   ]
  },
  {
   "cell_type": "code",
   "execution_count": 2,
   "metadata": {},
   "outputs": [],
   "source": [
    "url = \"https://medium.com/@namitabagri\"\n",
    "r = requests.get(url)"
   ]
  },
  {
   "cell_type": "code",
   "execution_count": 3,
   "metadata": {},
   "outputs": [],
   "source": [
    "soup = BeautifulSoup(r.text , 'html.parser')"
   ]
  },
  {
   "cell_type": "code",
   "execution_count": 7,
   "metadata": {},
   "outputs": [],
   "source": [
    "page_contents = soup.find(\"div\" , class_=\"l ae\")"
   ]
  },
  {
   "cell_type": "code",
   "execution_count": 8,
   "metadata": {},
   "outputs": [],
   "source": [
    "pc = page_contents.get_text()"
   ]
  },
  {
   "cell_type": "code",
   "execution_count": 9,
   "metadata": {},
   "outputs": [
    {
     "name": "stdout",
     "output_type": "stream",
     "text": [
      "NamitaOutlier Detection in MLWhat are outliers?4 min read·Dec 26, 2023----NamitaConvolutional Neural NetworksBefore kickstarting into CNNs we must first know about an image. What really is an RGB image?5 min read·Dec 11, 2023--1--1NamitaAccessing Open AI using pythonLearning to make API requests to Open AI and leveraging prompt engineering.5 min read·Sep 21, 2023--1--1NamitaImplementing LDA on AI generated data for topic modellingGenerative AI is out there, available for everyone but only a few know how to leverage it to the fullest.11 min read·Sep 8, 2023----NamitaBackpropagationBackpropagation in a neural network aims to improve the predicted output obtained from the neural network by updating it’s weights and…4 min read·Jun 18, 2023--2--2NamitaFeed Forward Neural Network From ScratchTo get started head first with the code, a certain clarity behind the scenes is required which I will be happy to provide in as simple…3 min read·Jun 15, 2023--1--1\n"
     ]
    }
   ],
   "source": [
    "print(pc)"
   ]
  },
  {
   "cell_type": "code",
   "execution_count": 24,
   "metadata": {},
   "outputs": [],
   "source": [
    "titles = soup.find_all(\"h2\" )"
   ]
  },
  {
   "cell_type": "code",
   "execution_count": 28,
   "metadata": {},
   "outputs": [
    {
     "name": "stdout",
     "output_type": "stream",
     "text": [
      " Outlier Detection in ML \n",
      " Convolutional Neural Networks \n",
      " Accessing Open AI using python \n",
      " Implementing LDA on AI generated data for topic modelling \n",
      " Backpropagation \n",
      " Feed Forward Neural Network From Scratch \n",
      " Namita \n"
     ]
    }
   ],
   "source": [
    "for ft in titles:\n",
    "    f = ft.text\n",
    "    print(f\" {f} \" )\n",
    "  "
   ]
  },
  {
   "cell_type": "code",
   "execution_count": 92,
   "metadata": {},
   "outputs": [],
   "source": [
    "comments = soup.find_all(class_='pw-responses-count')"
   ]
  },
  {
   "cell_type": "code",
   "execution_count": 93,
   "metadata": {},
   "outputs": [
    {
     "name": "stdout",
     "output_type": "stream",
     "text": [
      "1\n",
      "1\n",
      "1\n",
      "1\n",
      "2\n",
      "2\n",
      "1\n",
      "1\n"
     ]
    }
   ],
   "source": [
    "for v in comments :\n",
    "    vl = v.text\n",
    "    print(vl)"
   ]
  },
  {
   "cell_type": "code",
   "execution_count": 96,
   "metadata": {},
   "outputs": [],
   "source": [
    "claps = soup.find_all('button',class_=\"af ag ah ai aj ak al am an ao ap aq ar as at nx fd\")"
   ]
  },
  {
   "cell_type": "code",
   "execution_count": 97,
   "metadata": {},
   "outputs": [
    {
     "data": {
      "text/plain": [
       "[]"
      ]
     },
     "execution_count": 97,
     "metadata": {},
     "output_type": "execute_result"
    }
   ],
   "source": [
    "claps"
   ]
  },
  {
   "cell_type": "code",
   "execution_count": 111,
   "metadata": {},
   "outputs": [],
   "source": [
    "button_tag = soup.find('button')  # Find the <p> tag\n",
    "class_value = button_tag.get('class')\n"
   ]
  },
  {
   "cell_type": "code",
   "execution_count": 112,
   "metadata": {},
   "outputs": [
    {
     "name": "stdout",
     "output_type": "stream",
     "text": [
      "['be', 'b', 'dp', 'dq', 'dz', 'dr', 'ds', 'ea', 'dt', 'du', 'eb', 'ec', 'dw', 'ed', 'ee', 'dy', 'ef', 'eg', 'eh', 'ei', 'ej', 'ek', 'el', 'em', 'eo', 'ep', 'eq', 'er', 'es', 'et', 'eu', 'dh', 'bl', 'ev', 'ew']\n"
     ]
    }
   ],
   "source": [
    "print(class_value)"
   ]
  },
  {
   "cell_type": "code",
   "execution_count": null,
   "metadata": {},
   "outputs": [],
   "source": []
  }
 ],
 "metadata": {
  "kernelspec": {
   "display_name": "Python 3",
   "language": "python",
   "name": "python3"
  },
  "language_info": {
   "codemirror_mode": {
    "name": "ipython",
    "version": 3
   },
   "file_extension": ".py",
   "mimetype": "text/x-python",
   "name": "python",
   "nbconvert_exporter": "python",
   "pygments_lexer": "ipython3",
   "version": "3.11.3"
  }
 },
 "nbformat": 4,
 "nbformat_minor": 2
}
